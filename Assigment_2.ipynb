{
  "nbformat": 4,
  "nbformat_minor": 0,
  "metadata": {
    "colab": {
      "provenance": []
    },
    "kernelspec": {
      "name": "python3",
      "display_name": "Python 3"
    },
    "language_info": {
      "name": "python"
    }
  },
  "cells": [
    {
      "cell_type": "markdown",
      "source": [
        "**Question 1 and 2**\n",
        "\n",
        "\n",
        "---\n",
        "\n"
      ],
      "metadata": {
        "id": "PSR3Li_O03SO"
      }
    },
    {
      "cell_type": "code",
      "execution_count": 1,
      "metadata": {
        "colab": {
          "base_uri": "https://localhost:8080/"
        },
        "id": "lQpHiaOM0up_",
        "outputId": "6e7e947a-b70d-4cf4-bfef-54e132ca31c9"
      },
      "outputs": [
        {
          "output_type": "stream",
          "name": "stdout",
          "text": [
            " Name: BMW \n",
            " Max Speed: 230 \n",
            " Average of Vehicle: 120\n",
            " Name: Agera, Seating Capacity: 2\n"
          ]
        }
      ],
      "source": [
        "class vehicle():\n",
        "    def __init__(self, nameofVehicle, maxSpeed, avgOfVehicle):\n",
        "        self.nameofVehicle = nameofVehicle\n",
        "        self.maxSpeed = maxSpeed\n",
        "        self.avgOfVehicle = avgOfVehicle\n",
        "\n",
        "    def display(self):\n",
        "        print(\n",
        "            f\" Name: {self.nameofVehicle} \\n Max Speed: {self.maxSpeed} \\n Average of Vehicle: {self.avgOfVehicle}\")\n",
        "\n",
        "\n",
        "class car(vehicle):\n",
        "    def __init__(self, nameofVehicle, maxSpeed, avgOfVehicle):\n",
        "        super().__init__(nameofVehicle, maxSpeed, avgOfVehicle)\n",
        "\n",
        "    def seating_capacity(self, capacity):\n",
        "        return f\" Name: {self.nameofVehicle}, Seating Capacity: {capacity}\"\n",
        "\n",
        "\n",
        "vObj = vehicle(\"BMW\", 230, 120)\n",
        "vObj.display()\n",
        "\n",
        "cObj = car(\"Agera\", 350, 200)\n",
        "print(cObj.seating_capacity(2))\n"
      ]
    },
    {
      "cell_type": "markdown",
      "source": [
        "Question 3\n",
        "\n",
        "\n",
        "---\n",
        "\n"
      ],
      "metadata": {
        "id": "1SkRDcQ20_9K"
      }
    },
    {
      "cell_type": "code",
      "source": [
        "'''\n",
        "Multiple inheritance is the concept of child class inheriting properties and behaviour of\n",
        "more than one class\n",
        "'''\n",
        "\n",
        "\n",
        "class Student:\n",
        "    def __init__(self):\n",
        "        pass\n",
        "\n",
        "    def whoAmIStudent(self):\n",
        "        print(\" I'm a Student\")\n",
        "\n",
        "\n",
        "class Staff:\n",
        "    def __init__(self):\n",
        "        pass\n",
        "\n",
        "    def whoAmIStaff(self):\n",
        "        print(\" I'm a Staff\")\n",
        "\n",
        "\n",
        "class Human(Student, Staff):\n",
        "    def __init__(self):\n",
        "        pass\n",
        "\n",
        "    def whoAmI(self):\n",
        "        super().whoAmIStudent()\n",
        "        super().whoAmIStaff()\n",
        "        print(\" I'm a Human\")\n",
        "\n",
        "\n",
        "h = Human()\n",
        "h.whoAmI()\n"
      ],
      "metadata": {
        "colab": {
          "base_uri": "https://localhost:8080/"
        },
        "id": "FRI8qVd21C3d",
        "outputId": "2245faf8-5b9b-4bd2-8c8d-13cdf35d44b1"
      },
      "execution_count": 2,
      "outputs": [
        {
          "output_type": "stream",
          "name": "stdout",
          "text": [
            " I'm a S tudent\n",
            " I'm a Staff\n",
            " I'm a Human\n"
          ]
        }
      ]
    },
    {
      "cell_type": "markdown",
      "source": [
        "Question 4\n",
        "\n",
        "\n",
        "---\n",
        "\n"
      ],
      "metadata": {
        "id": "VWilBTze1Op9"
      }
    },
    {
      "cell_type": "code",
      "source": [
        "class Person:\n",
        "    def __init__(self, name, age, gender):\n",
        "        self.name = name\n",
        "        self.__age = age\n",
        "        self.gender = gender\n",
        "\n",
        "    def say_hello(self):\n",
        "        print(\" Hey. I'm a Person \")\n",
        "\n",
        "    def getAge(self):\n",
        "        return self.__age\n",
        "\n",
        "    def setAge(self, age):\n",
        "        self.__age = age\n",
        "\n",
        "    def is_adult(self):\n",
        "        if self.age >= 18:\n",
        "            return True\n",
        "        else:\n",
        "            return False\n",
        "\n",
        "    def displayDetails(self):\n",
        "        print(f' Name: {self.name} \\n Age {self.__age} \\n Gender: {self.gender}')\n",
        "\n",
        "\n",
        "class Student(Person):\n",
        "    def __init__(self, name, age, gender, student_id, course):\n",
        "        super().__init__( name, age, gender)\n",
        "        self.student_id = student_id\n",
        "        self.course = course\n",
        "\n",
        "    def printDetails(self):\n",
        "        super().displayDetails()\n",
        "        print(f\" Student ID: {self.student_id} \\n Course: {self.course}\")\n",
        "\n",
        "\n",
        "class Teacher(Person):\n",
        "    def __init__(self,name, age, gender, teacher_id, subject):\n",
        "        super().__init__( name, age, gender)\n",
        "        self.teacher_id = teacher_id\n",
        "        self.subject = subject\n",
        "\n",
        "    def printDetails(self):\n",
        "        super().displayDetails()\n",
        "        print(f\" Teacher ID: {self.teacher_id} \\n Subject: {self.subject}\")\n",
        "\n",
        "    def say_hello(self):\n",
        "        print(\" Hey. I'm a Teacher \")\n",
        "\n",
        "\n",
        "print(\"\\n ******* Person object ********\")\n",
        "p_obj = Person(\"Nimish\",22,\"Male\")\n",
        "p_obj.say_hello()\n",
        "p_obj.displayDetails()\n",
        "p_obj.setAge(25) #Age changed to 25 using setAge Method (Encapsulation)\n",
        "print(\"\\n Printing after changing the age.\")\n",
        "p_obj.displayDetails()\n",
        "\n",
        "\n",
        "print(\"\\n ******* Student object ********\")\n",
        "s_obj = Student(\"Sharookh\",24,\"Male\",\"C0857251\",\"FSDM\")\n",
        "s_obj.printDetails()\n",
        "\n",
        "\n",
        "print(\"\\n ******* Teacher object ********\")\n",
        "t_obj = Teacher(\"Shareef\",27,\"Male\",\"T012444\",\"Front-End\")\n",
        "t_obj.say_hello()\n",
        "t_obj.printDetails()"
      ],
      "metadata": {
        "colab": {
          "base_uri": "https://localhost:8080/"
        },
        "id": "pF_MT3AD1Q-S",
        "outputId": "c5df490a-95e8-488d-e49e-ed7a4f65db51"
      },
      "execution_count": 14,
      "outputs": [
        {
          "output_type": "stream",
          "name": "stdout",
          "text": [
            "\n",
            " ******* Person object ********\n",
            " Hey. I'm a Person \n",
            " Name: Nimish \n",
            " Age 22 \n",
            " Gender: Male\n",
            "\n",
            " Printing after changing the age.\n",
            " Name: Nimish \n",
            " Age 25 \n",
            " Gender: Male\n",
            "\n",
            " ******* Student object ********\n",
            " Name: Sharookh \n",
            " Age 24 \n",
            " Gender: Male\n",
            " Student ID: C0857251 \n",
            " Course: FSDM\n",
            "\n",
            " ******* Teacher object ********\n",
            " Hey. I'm a Teacher \n",
            " Name: Shareef \n",
            " Age 27 \n",
            " Gender: Male\n",
            " Teacher ID: T012444 \n",
            " Subject: Front-End\n"
          ]
        }
      ]
    }
  ]
}